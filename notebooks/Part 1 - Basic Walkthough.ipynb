{
 "cells": [
  {
   "cell_type": "markdown",
   "id": "70fbd319-7dee-4fca-8c51-b425e84d858f",
   "metadata": {},
   "source": [
    "# Part 1 - Basic Walkthough\n",
    "This notebook contains blocks to guide you through how to run your first spoof audio detection model, using the AASIST model and custom trained weights."
   ]
  },
  {
   "cell_type": "code",
   "execution_count": null,
   "id": "66d9fb1e",
   "metadata": {},
   "outputs": [],
   "source": [
    "# Setup\n",
    "\n",
    "# Import the git repo and install required libraries\n",
    "!git clone --branch Showcase https://github.com/Hapemo/Deepfake-Audio-Detection/\n",
    "%cd Deepfake-Audio-Detection/\n",
    "%pip install -r requirements.txt\n",
    "\n",
    "# Prepare data folder and download speech samples\n",
    "!mkdir data\n",
    "%cd data\n",
    "!gdown 1WevCjrJJ7pv9XzCwjbyJ1iNr2uoOYnZI\n",
    "!gdown 1TE88aXpA5YvTP5KwjM_1SYs3_HinXjDj\n",
    "!unzip showcase_samples.zip\n",
    "!unzip SileroVAD_samples.zip\n",
    "%cd ..\n"
   ]
  },
  {
   "cell_type": "markdown",
   "id": "48529ade",
   "metadata": {},
   "source": [
    "## Loading in libraries"
   ]
  },
  {
   "cell_type": "code",
   "execution_count": null,
   "id": "3f067952",
   "metadata": {},
   "outputs": [],
   "source": [
    "import sys\n",
    "sys.path.append(\"pyfiles\")\n",
    "from sg_dataloader import custom_predict\n",
    "from main import get_model\n",
    "import torch\n",
    "import json\n",
    "import os"
   ]
  },
  {
   "cell_type": "markdown",
   "id": "e129fdc5",
   "metadata": {},
   "source": [
    "## Preparing pretrained model\n",
    "You can indicate which pretrained model you want to use, uncomment the line below to use that config file."
   ]
  },
  {
   "cell_type": "code",
   "execution_count": null,
   "id": "5f8aeb26",
   "metadata": {},
   "outputs": [],
   "source": [
    "config_path = \"config/Apple1.1.conf\"\n",
    "# config_path = \"config/Apple1.2.conf\"\n",
    "# config_path = \"config/AASIST.conf\""
   ]
  },
  {
   "cell_type": "code",
   "execution_count": null,
   "metadata": {},
   "outputs": [],
   "source": [
    "\n",
    "# # load experiment configurations\n",
    "with open(config_path, \"r\") as f_json:\n",
    "    config = json.loads(f_json.read())\n",
    "model_config = config[\"model_config\"]\n",
    "\n",
    "# set device\n",
    "device = \"cuda\" if torch.cuda.is_available() else \"cpu\"\n",
    "print(\"Device: {}\".format(device))\n",
    "if device == \"cpu\":\n",
    "    raise ValueError(\"GPU not detected!\")\n",
    "\n",
    "# define model architecture\n",
    "model = get_model(model_config, device)\n",
    "\n",
    "# evaluates pretrained model and exit script\n",
    "model.load_state_dict(\n",
    "    torch.load(config[\"model_path\"], map_location=device))\n",
    "print(\"Model loaded : {}\".format(config[\"model_path\"]))"
   ]
  },
  {
   "cell_type": "markdown",
   "id": "71fd896f",
   "metadata": {},
   "source": [
    "## Speech inference\n",
    "You can load in the audio to listen and use the model to do spoof prediction. There are some sample audios you can use, in the data folder. \n",
    "\n",
    "Input the relative directory of the audio file in audioPath variable to select your speech."
   ]
  },
  {
   "cell_type": "code",
   "execution_count": null,
   "id": "a3e8826f",
   "metadata": {},
   "outputs": [],
   "source": [
    "from IPython.display import Audio\n",
    "import soundfile as sf"
   ]
  },
  {
   "cell_type": "code",
   "execution_count": null,
   "id": "96cab114",
   "metadata": {},
   "outputs": [],
   "source": [
    "audioPath = \"data/showcase_samples/bonafide/SPEAKER0021/00210023.wav\"\n",
    "\n",
    "# Load the audio file\n",
    "audioData, sampleRate = sf.read(audioPath)\n",
    "\n",
    "# Play the loaded audio\n",
    "Audio(audioData, rate=sampleRate)"
   ]
  },
  {
   "cell_type": "code",
   "execution_count": null,
   "metadata": {},
   "outputs": [],
   "source": [
    "\n",
    "result = \"Bonafide\" if custom_predict(audioData, model, device, sampleRate = sampleRate, audioLength = 4) else \"Spoof\"\n",
    "print(result)"
   ]
  }
 ],
 "metadata": {
  "kernelspec": {
   "display_name": "Python 3 (ipykernel)",
   "language": "python",
   "name": "python3"
  },
  "language_info": {
   "codemirror_mode": {
    "name": "ipython",
    "version": 3
   },
   "file_extension": ".py",
   "mimetype": "text/x-python",
   "name": "python",
   "nbconvert_exporter": "python",
   "pygments_lexer": "ipython3",
   "version": "3.10.13"
  }
 },
 "nbformat": 4,
 "nbformat_minor": 5
}
