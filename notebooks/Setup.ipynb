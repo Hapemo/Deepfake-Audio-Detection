{
 "cells": [
  {
   "cell_type": "markdown",
   "id": "70fbd319-7dee-4fca-8c51-b425e84d858f",
   "metadata": {},
   "source": [
    "# Setup\n",
    "This notebook contains blocks that will set up the base environment for the project for you."
   ]
  },
  {
   "cell_type": "code",
   "execution_count": null,
   "id": "f2afd463",
   "metadata": {
    "scrolled": true
   },
   "outputs": [],
   "source": [
    "# Import the git repo and install required libraries\n",
    "!git clone --branch Showcase https://github.com/Hapemo/Deepfake-Audio-Detection/\n",
    "%cd Deepfake-Audio-Detection/\n",
    "!pip install -r requirements.txt\n"
   ]
  },
  {
   "cell_type": "code",
   "execution_count": null,
   "id": "b053688a",
   "metadata": {},
   "outputs": [],
   "source": [
    "# Prepare data folder and download speech samples\n",
    "!mkdir data\n",
    "%cd data\n",
    "!gdown 1WevCjrJJ7pv9XzCwjbyJ1iNr2uoOYnZI\n",
    "!gdown 1TE88aXpA5YvTP5KwjM_1SYs3_HinXjDj"
   ]
  }
 ],
 "metadata": {
  "kernelspec": {
   "display_name": "Python 3 (ipykernel)",
   "language": "python",
   "name": "python3"
  },
  "language_info": {
   "codemirror_mode": {
    "name": "ipython",
    "version": 3
   },
   "file_extension": ".py",
   "mimetype": "text/x-python",
   "name": "python",
   "nbconvert_exporter": "python",
   "pygments_lexer": "ipython3",
   "version": "3.10.13"
  }
 },
 "nbformat": 4,
 "nbformat_minor": 5
}
