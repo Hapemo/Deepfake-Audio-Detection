{
 "cells": [
  {
   "cell_type": "markdown",
   "id": "70fbd319-7dee-4fca-8c51-b425e84d858f",
   "metadata": {},
   "source": [
    "# Brief\n",
    "This notebook contains experimental codes for any usage, just a dump area."
   ]
  },
  {
   "cell_type": "code",
   "execution_count": null,
   "id": "f2afd463",
   "metadata": {},
   "outputs": [],
   "source": [
    "# Imports\n",
    "import os\n",
    "%run -i \"pyfiles/header.py\""
   ]
  },
  {
   "cell_type": "code",
   "execution_count": null,
   "id": "5d2cf6d8",
   "metadata": {},
   "outputs": [],
   "source": [
    "%run \"pyfiles/main.py\" --config \"./config/AASIST.conf\""
   ]
  },
  {
   "cell_type": "code",
   "execution_count": null,
   "id": "6dbd7f5c-8de8-41eb-8093-570edeb7e3b1",
   "metadata": {},
   "outputs": [],
   "source": [
    "# Compiling the labels of a data into [ {<feature_1_1>: <count>, ... }, {<feature_2_1>: <count>, ... }, ... ]\n",
    "\n",
    "# Load in file\n",
    "file = open(DF_KEY_PATH + \"CM/trial_metadata.txt\", 'r')\n",
    "fileLines = file.readlines()\n",
    "\n",
    "listOfFeatures = []\n",
    "nameFeaturePos = 1 # Position of the unique name of each files\n",
    "\n",
    "for _ in range(len(fileLines[0].split(' '))):\n",
    "\tlistOfFeatures.append({})\n",
    "\n",
    "for line in fileLines:\n",
    "  featurePos = 0\n",
    "  for word in line.split(' '):\n",
    "    if featurePos == nameFeaturePos:\n",
    "      featurePos += 1\n",
    "      continue\n",
    "    \n",
    "    listOfFeatures[featurePos][word] = listOfFeatures[featurePos].get(word, 0) + 1\n",
    "    featurePos += 1\n",
    "\n"
   ]
  },
  {
   "cell_type": "code",
   "execution_count": null,
   "id": "0ba37391",
   "metadata": {},
   "outputs": [],
   "source": [
    "print((listOfFeatures[12]))\n"
   ]
  },
  {
   "cell_type": "code",
   "execution_count": null,
   "id": "0b0bb15d",
   "metadata": {},
   "outputs": [],
   "source": []
  }
 ],
 "metadata": {
  "kernelspec": {
   "display_name": "Python 3 (ipykernel)",
   "language": "python",
   "name": "python3"
  },
  "language_info": {
   "codemirror_mode": {
    "name": "ipython",
    "version": 3
   },
   "file_extension": ".py",
   "mimetype": "text/x-python",
   "name": "python",
   "nbconvert_exporter": "python",
   "pygments_lexer": "ipython3",
   "version": "3.10.13"
  }
 },
 "nbformat": 4,
 "nbformat_minor": 5
}
