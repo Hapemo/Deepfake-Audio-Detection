{
 "cells": [
  {
   "cell_type": "markdown",
   "id": "70fbd319-7dee-4fca-8c51-b425e84d858f",
   "metadata": {},
   "source": [
    "# Brief\n",
    "This notebook contains experimental codes for any usage, just a dump area."
   ]
  },
  {
   "cell_type": "code",
   "execution_count": 13,
   "id": "f2afd463",
   "metadata": {},
   "outputs": [
    {
     "name": "stdout",
     "output_type": "stream",
     "text": [
      "Included header.py\n"
     ]
    }
   ],
   "source": [
    "# Imports\n",
    "import os\n",
    "%run -i \"pyfiles/header.py\""
   ]
  },
  {
   "cell_type": "code",
   "execution_count": 56,
   "id": "6dbd7f5c-8de8-41eb-8093-570edeb7e3b1",
   "metadata": {},
   "outputs": [],
   "source": [
    "# Compiling the labels of a data into [ {<feature_1_1>: <count>, ... }, {<feature_2_1>: <count>, ... }, ... ]\n",
    "\n",
    "# Load in file\n",
    "file = open(PA_KEY_PATH + \"ASV/trial_metadata.txt\", 'r')\n",
    "fileLines = file.readlines()\n",
    "\n",
    "listOfFeatures = []\n",
    "nameFeaturePos = 1 # Position of the unique name of each files\n",
    "\n",
    "for _ in range(len(fileLines[0].split(' '))):\n",
    "\tlistOfFeatures.append({})\n",
    "\n",
    "for line in fileLines:\n",
    "  featurePos = 0\n",
    "  for word in line.split(' '):\n",
    "    if featurePos == nameFeaturePos:\n",
    "      featurePos += 1\n",
    "      continue\n",
    "    \n",
    "    listOfFeatures[featurePos][word] = listOfFeatures[featurePos].get(word, 0) + 1\n",
    "    featurePos += 1\n",
    "\n"
   ]
  },
  {
   "cell_type": "code",
   "execution_count": 59,
   "id": "0ba37391",
   "metadata": {},
   "outputs": [
    {
     "name": "stdout",
     "output_type": "stream",
     "text": [
      "{'PA_0001': 52110, 'PA_0002': 52110, 'PA_0003': 52110, 'PA_0004': 52380, 'PA_0005': 52110, 'PA_0006': 52380, 'PA_0007': 52110, 'PA_0008': 52380, 'PA_0009': 52380, 'PA_0010': 52380, 'PA_0011': 52110, 'PA_0012': 52380, 'PA_0013': 52110, 'PA_0014': 52380, 'PA_0015': 52110, 'PA_0016': 52380, 'PA_0017': 52380, 'PA_0018': 52110, 'PA_0019': 52380, 'PA_0020': 52380, 'PA_0021': 52110, 'PA_0022': 52380, 'PA_0023': 52110, 'PA_0024': 52380, 'PA_0025': 52110, 'PA_0026': 52380, 'PA_0027': 52380, 'PA_0028': 52110, 'PA_0029': 52380, 'PA_0030': 52110, 'PA_0031': 52380, 'PA_0032': 52110, 'PA_0033': 52380, 'PA_0034': 52380, 'PA_0035': 52380, 'PA_0036': 52110, 'PA_0037': 52380, 'PA_0038': 52110, 'PA_0039': 52380, 'PA_0040': 52110, 'PA_0041': 52380, 'PA_0042': 52380, 'PA_0043': 52380, 'PA_0044': 52110, 'PA_0045': 52380, 'PA_0046': 52110, 'PA_0047': 52380, 'PA_0048': 52110}\n"
     ]
    }
   ],
   "source": [
    "print((listOfFeatures[0]))\n"
   ]
  },
  {
   "cell_type": "code",
   "execution_count": null,
   "id": "0b0bb15d",
   "metadata": {},
   "outputs": [],
   "source": []
  }
 ],
 "metadata": {
  "kernelspec": {
   "display_name": "Python 3 (ipykernel)",
   "language": "python",
   "name": "python3"
  },
  "language_info": {
   "codemirror_mode": {
    "name": "ipython",
    "version": 3
   },
   "file_extension": ".py",
   "mimetype": "text/x-python",
   "name": "python",
   "nbconvert_exporter": "python",
   "pygments_lexer": "ipython3",
   "version": "3.11.0rc1"
  }
 },
 "nbformat": 4,
 "nbformat_minor": 5
}
